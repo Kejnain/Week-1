{
 "cells": [
  {
   "cell_type": "code",
   "execution_count": 1,
   "metadata": {},
   "outputs": [],
   "source": [
    "from numpy.random import randint as random"
   ]
  },
  {
   "cell_type": "code",
   "execution_count": 2,
   "metadata": {},
   "outputs": [],
   "source": [
    "def add_newline_after_full_stops(input_string):\n",
    "    sentences = input_string.split('.')\n",
    "    result = '.\\n'.join(sentences)\n",
    "    return result"
   ]
  },
  {
   "cell_type": "code",
   "execution_count": 3,
   "metadata": {},
   "outputs": [],
   "source": [
    "source_text = \"\"\"That is reality,\" I thought. This... is an empty space. A world that's empty. A world that's empty of everything but me. I'm starting to become indistinct. I feel myself disappearing. The being that is me is fading away. \"WHY?\" I questioned. That's because no one is here but you. Because I'm alone. If nothing exists outside of yourself, you can't determine your own shape. My own shape... MY SELF IMAGE? Yes. You learn your own shape by observing the shapes of others. You visualize your own shape by seeing the wall between \"self\" and \"other\". You can't see yourself unless others are there with you. But that means it's other people that let me be myself!\"\"\""
   ]
  },
  {
   "cell_type": "code",
   "execution_count": 4,
   "metadata": {},
   "outputs": [],
   "source": [
    "def cut_up_poem_words(source_text, poem_length):\n",
    "    \n",
    "    words = source_text.split(' ')\n",
    "    num_words = len(words)\n",
    "    poem = ''\n",
    "    \n",
    "    for i in range(poem_length):\n",
    "        new_word = words[random(num_words-1)]\n",
    "        poem += new_word\n",
    "        poem += ' '\n",
    "\n",
    "    formatted_poem = add_newline_after_full_stops(poem)\n",
    "    return formatted_poem"
   ]
  },
  {
   "cell_type": "code",
   "execution_count": 5,
   "metadata": {},
   "outputs": [
    {
     "name": "stdout",
     "output_type": "stream",
     "text": [
      "The is You That thought.\n",
      " SELF is here but others \"self\" yourself, being The questioned.\n",
      " shape outside Yes.\n",
      " that the is of you.\n",
      " are That IMAGE? reality,\" one means because nothing IMAGE? is others.\n",
      " one You there space.\n",
      " shapes empty.\n",
      " and IMAGE? \n"
     ]
    }
   ],
   "source": [
    "poem = cut_up_poem_words(source_text, 42)\n",
    "print(poem)"
   ]
  },
  {
   "cell_type": "code",
   "execution_count": 6,
   "metadata": {},
   "outputs": [],
   "source": [
    "def cut_up_poem_sentences(source_text, poem_length):\n",
    "    \n",
    "    words = source_text.split('.')\n",
    "    num_words = len(words)\n",
    "    poem = ''\n",
    "    \n",
    "    for i in range(poem_length):\n",
    "        new_sentence = words[random(num_words-1)]\n",
    "        poem += new_sentence\n",
    "        poem += '.'\n",
    "\n",
    "    formatted_poem = add_newline_after_full_stops(poem)\n",
    "    return formatted_poem"
   ]
  },
  {
   "cell_type": "code",
   "execution_count": 7,
   "metadata": {},
   "outputs": [
    {
     "name": "stdout",
     "output_type": "stream",
     "text": [
      ".\n",
      " That's because no one is here but you.\n",
      " Because I'm alone.\n",
      ".\n",
      " Because I'm alone.\n",
      "\n"
     ]
    }
   ],
   "source": [
    "poem = cut_up_poem_sentences(source_text, 5)\n",
    "print(poem)"
   ]
  },
  {
   "cell_type": "code",
   "execution_count": null,
   "metadata": {},
   "outputs": [],
   "source": []
  }
 ],
 "metadata": {
  "kernelspec": {
   "display_name": "Python 3",
   "language": "python",
   "name": "python3"
  },
  "language_info": {
   "codemirror_mode": {
    "name": "ipython",
    "version": 3
   },
   "file_extension": ".py",
   "mimetype": "text/x-python",
   "name": "python",
   "nbconvert_exporter": "python",
   "pygments_lexer": "ipython3",
   "version": "3.8.5"
  }
 },
 "nbformat": 4,
 "nbformat_minor": 4
}
